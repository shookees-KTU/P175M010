{
 "cells": [
  {
   "cell_type": "markdown",
   "metadata": {
    "slideshow": {
     "slide_type": "slide"
    }
   },
   "source": [
    "# Rail Fence šifras"
   ]
  },
  {
   "cell_type": "markdown",
   "metadata": {},
   "source": [
    "##Šifravimas\n",
    "Šifro principas: raidžių išdėstymas zigzagu ir nuskaitymas į vieną žodį eilutė po eilutės.\n",
    "\n",
    "Pavyzdžiui: Žodis \"WE ARE DISCOVERED FLEE AT ONCE\" Sudėjimas zigzagu, kur kas atitinkamaą intervalą yra keičiama teksto rašymo kryptis (aukštyn - žemyn). Šiuo atveju - kas 3.\n",
    "\n",
    "    W . . . . D I . . . . E R . . . . E E . . . . C E\n",
    "    . E . . E . . S . . V . . E . . L . . A . . N . .\n",
    "    . . A R . . . . C O . . . . D F . . . . T O . . .\n",
    "    \n",
    "Užšifruojant tekstą nuskaitoma pirmoji, antroji, ..., n-toji eilutė (priklausomai nuo parinkto intervalo užšifruojant, šiuo atveju - 3):\n",
    "\n",
    " 1-oji eilutė - `W D I E R E E C E`\n",
    " \n",
    " 2-oji eilutė - `E E S V E L A N`\n",
    " \n",
    " 3-oji eilutė - `A R C O D F T O`\n",
    "\n",
    "ir paeiliui visos eilutės sudedamos į vieną:\n",
    "\n",
    "Užšifruotas tekstas - `WDIEREECEEESVELANARCODFTO`\n"
   ]
  },
  {
   "cell_type": "code",
   "execution_count": 9,
   "metadata": {
    "collapsed": true
   },
   "outputs": [],
   "source": [
    "def encode(plain_text, key):\n",
    "    cipher_text = \"\"\n",
    "    #išimami tarpai\n",
    "    plain_text = plain_text.replace(\" \", \"\")\n",
    "        \n",
    "    for line_index in xrange(0, key):\n",
    "        letter_index = 0\n",
    "        cipher_text += plain_text[line_index]\n",
    "        \n",
    "        while letter_index + 2 * key - (line_index + 1) < len(plain_text):\n",
    "            #Egzistuoja poros, kurių viršūnės susiliečia\n",
    "            letter_index += 2 * key\n",
    "            cipher_text += plain_text[letter_index - (line_index + 1)] \n",
    "            \n",
    "            if letter_index + line_index >= len(plain_text):\n",
    "                break\n",
    "            cipher_text += plain_text[letter_index + line_index]\n",
    "\n",
    "    return cipher_text"
   ]
  },
  {
   "cell_type": "code",
   "execution_count": 10,
   "metadata": {
    "collapsed": false
   },
   "outputs": [
    {
     "data": {
      "text/plain": [
       "'WDIEREECEEESVELANARCODFTO'"
      ]
     },
     "execution_count": 10,
     "metadata": {},
     "output_type": "execute_result"
    }
   ],
   "source": [
    "raktas = 3\n",
    "tekstas = \"WE ARE DISCOVERED FLEE AT ONCE\"\n",
    "encode(tekstas, raktas)"
   ]
  },
  {
   "cell_type": "markdown",
   "metadata": {},
   "source": [
    "##Iššifravimas"
   ]
  },
  {
   "cell_type": "markdown",
   "metadata": {},
   "source": [
    "Iššifravimui reikalingas užšifruotas tekstas ir raktas - intervalas kada buvo keičiama kryptis.\n",
    "Visas principas yra pagrįstas atvirkštiniu būdu, nei buvo užšifruota:\n",
    " 1. Sužinomos eilutės\n",
    " 2. Zigzagu atšifruojamas tekstas\n",
    "\n",
    "Pirmasis žingsnis turi šiokių tokių svarbių aspektų:\n",
    " 1. Gali egzistuoti \"uodega\" - paskutinis stulpelis, kuris nėra užpildytas;\n",
    " 2. Uodega svarbi tuo, kad ji gali būti užrašoma tiek iš viršaus, tiek iš apačios - reikia nustatyti kryptį ir raidžių uodegoje kiekį;\n",
    " 3. Žinant kiekį, reikia nustatyti kaip nuskaityti užšifruotą tekstą (jei nuo viršaus rašomos uodegos n raidžių, tai pirmosios n eilučių bus ilgesnės vienu simboliu ir atvirkščiai - iš apačios rašomos uodegos n raidžių, tai paskutinės n eilučių bus vieni simboliu ilgesnės)."
   ]
  },
  {
   "cell_type": "code",
   "execution_count": 15,
   "metadata": {
    "collapsed": false
   },
   "outputs": [],
   "source": [
    "import math\n",
    "\n",
    "def decode(cipher_text, key):\n",
    "    #Reikia sužinoti ar yra uodega ir kuriame gale\n",
    "    #uodega iš viršaus į apačią - teigiama\n",
    "    #iš apačios į viršų - neigiama\n",
    "    #\n",
    "    #pradžioje pradedama nuo viršaus į apačią, nelyginis skaičius\n",
    "    plain_text = \"\"\n",
    "    columns = int(math.ceil(len(cipher_text) / float(key)))\n",
    "    tail = len(cipher_text) % key #nustatomas ilgis\n",
    "    tail *= -1 if columns % 2 == 0 else 1 #nustatoma kryptis\n",
    "    ind = 0 #zingsnis, kurio pagalba kopijuojamas tekstas į grupes\n",
    "    grupes = [] #grupes, tai atbuliniu zingsniu sudaryta tvorele\n",
    "    for i in xrange(0, key):\n",
    "        #pridedamas papildomas kiekis (1 daugiau) simbolių, nei įprastai\n",
    "        if (tail > 0 and i <= tail - 1) or (tail < 0 and i >= key + tail):\n",
    "            grupes.append(cipher_text[ind: ind + columns])\n",
    "            ind += columns\n",
    "        else:\n",
    "            grupes.append(cipher_text[ind: ind + columns - 1])\n",
    "            ind += columns - 1\n",
    "\n",
    "    #gautos grupes, formuojamas tekstas\n",
    "    for column in xrange(0, columns):\n",
    "        iterator = xrange(0, key)\n",
    "        \n",
    "        if column % 2 == 1:\n",
    "            #apverciamas iterator\n",
    "            iterator = reversed(iterator)\n",
    "\n",
    "        for eilute in iterator:\n",
    "            if (column <= len(grupes[eilute]) - 1):\n",
    "                plain_text += grupes[eilute][column]\n",
    "\n",
    "    return plain_text"
   ]
  },
  {
   "cell_type": "markdown",
   "metadata": {},
   "source": [
    "raktas\n"
   ]
  },
  {
   "cell_type": "code",
   "execution_count": 19,
   "metadata": {
    "collapsed": false
   },
   "outputs": [
    {
     "data": {
      "text/plain": [
       "'WEAREDISCOVEREDFLEEATONCE'"
      ]
     },
     "execution_count": 19,
     "metadata": {},
     "output_type": "execute_result"
    }
   ],
   "source": [
    "decode(\"WDIEREECEEESVELANARCODFTO\", 3)\n"
   ]
  },
  {
   "cell_type": "markdown",
   "metadata": {},
   "source": [
    "##Kriptoanalizė"
   ]
  },
  {
   "cell_type": "markdown",
   "metadata": {},
   "source": [
    "Realaus sprendinio, kur tiksliai sužinomas pradinis tekstas - nėra. Galimi spėjimai keičiant iššifruojant su vis kitokiu rakto dydžiu (raktų variacija nėra didesnė už teksto ilgį)"
   ]
  },
  {
   "cell_type": "code",
   "execution_count": 33,
   "metadata": {
    "collapsed": false
   },
   "outputs": [],
   "source": [
    "import sys\n",
    "sys.path.insert(0, '../L1')\n",
    "from Ciphers import RailFence"
   ]
  },
  {
   "cell_type": "code",
   "execution_count": 40,
   "metadata": {
    "collapsed": false
   },
   "outputs": [
    {
     "data": {
      "text/plain": [
       "True"
      ]
     },
     "execution_count": 40,
     "metadata": {},
     "output_type": "execute_result"
    }
   ],
   "source": [
    "rf = RailFence()\n",
    "P = \"WE ARE DISCOVERED FLEE AT ONCE\"\n",
    "K = 4\n",
    "C = rf.encode(P, K)\n",
    "P = P.replace(\" \", \"\")\n",
    "P_array = rf.cryptoanalyze(C)\n",
    "P in P_array.values()"
   ]
  }
 ],
 "metadata": {
  "kernelspec": {
   "display_name": "Python 2",
   "language": "python",
   "name": "python2"
  },
  "language_info": {
   "codemirror_mode": {
    "name": "ipython",
    "version": 2
   },
   "file_extension": ".py",
   "mimetype": "text/x-python",
   "name": "python",
   "nbconvert_exporter": "python",
   "pygments_lexer": "ipython2",
   "version": "2.7.8"
  }
 },
 "nbformat": 4,
 "nbformat_minor": 0
}
